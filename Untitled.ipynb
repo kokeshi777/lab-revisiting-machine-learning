{
 "cells": [
  {
   "cell_type": "code",
   "execution_count": 1,
   "metadata": {},
   "outputs": [],
   "source": [
    "import pandas as pd\n",
    "import numpy as np\n",
    "pd.set_option('display.max_columns', None)\n",
    "import warnings\n",
    "warnings.filterwarnings('ignore')\n",
    "import matplotlib.pyplot as plt\n",
    "import seaborn as sns "
   ]
  },
  {
   "cell_type": "code",
   "execution_count": 2,
   "metadata": {},
   "outputs": [
    {
     "data": {
      "text/plain": [
       "(95412, 481)"
      ]
     },
     "execution_count": 2,
     "metadata": {},
     "output_type": "execute_result"
    }
   ],
   "source": [
    "data = pd.read_csv('learningSet.csv')\n",
    "data.shape"
   ]
  },
  {
   "cell_type": "code",
   "execution_count": 56,
   "metadata": {},
   "outputs": [],
   "source": [
    "numerical=data.select_dtypes(np.number)\n",
    "categorical = data.select_dtypes(np.object)"
   ]
  },
  {
   "cell_type": "code",
   "execution_count": 4,
   "metadata": {},
   "outputs": [],
   "source": [
    "data = data.apply(lambda x: x.replace(\" \", np.NaN))"
   ]
  },
  {
   "cell_type": "code",
   "execution_count": 38,
   "metadata": {},
   "outputs": [],
   "source": [
    "def filter_nulls(df, perc = .25):\n",
    "  ''' This function gets a dataframe, inspects the percentage of null values in each column \n",
    "      and returns a list of those columns which has a percentage above the threshold value \n",
    "      provided by the user. A default percentage value of 25% is assumed unless another value\n",
    "      is provided in the function arguments.\n",
    "      Inputs: \n",
    "        df: a dataframe to inspec\n",
    "        [perc]: percentage of null values in each column\n",
    "      Outputs:\n",
    "        list of columns which have a percentage of null values above the specified thershold.\n",
    "  '''\n",
    "  nulls_percent_df = pd.DataFrame(df.isna().sum()/len(df)).reset_index()  \n",
    "  nulls_percent_df.columns = ['column_name', 'nulls_percentage']\n",
    "  columns_above_threshold = nulls_percent_df[nulls_percent_df['nulls_percentage']>perc]\n",
    "  drop_columns_list = list(columns_above_threshold['column_name'])\n",
    "  return drop_columns_list"
   ]
  },
  {
   "cell_type": "code",
   "execution_count": 39,
   "metadata": {},
   "outputs": [
    {
     "data": {
      "text/plain": [
       "['MAILCODE',\n",
       " 'PVASTATE',\n",
       " 'RECINHSE',\n",
       " 'RECP3',\n",
       " 'RECPGVG',\n",
       " 'RECSWEEP',\n",
       " 'AGEFLAG',\n",
       " 'CHILD03',\n",
       " 'CHILD07',\n",
       " 'CHILD12',\n",
       " 'CHILD18',\n",
       " 'SOLP3',\n",
       " 'SOLIH',\n",
       " 'MAJOR',\n",
       " 'GEOCODE',\n",
       " 'COLLECT1',\n",
       " 'VETERANS',\n",
       " 'BIBLE',\n",
       " 'CATLG',\n",
       " 'HOMEE',\n",
       " 'PETS',\n",
       " 'CDPLAY',\n",
       " 'STEREO',\n",
       " 'PCOWNERS',\n",
       " 'PHOTO',\n",
       " 'CRAFTS',\n",
       " 'FISHER',\n",
       " 'GARDENIN',\n",
       " 'BOATS',\n",
       " 'WALKER',\n",
       " 'KIDSTUFF',\n",
       " 'CARDS',\n",
       " 'PLATES',\n",
       " 'LIFESRC',\n",
       " 'PEPSTRFL',\n",
       " 'RFA_5',\n",
       " 'RFA_10',\n",
       " 'RFA_13',\n",
       " 'RFA_15',\n",
       " 'RFA_17',\n",
       " 'RFA_19',\n",
       " 'RFA_20',\n",
       " 'RFA_21',\n",
       " 'RFA_22',\n",
       " 'RFA_23',\n",
       " 'RFA_24']"
      ]
     },
     "execution_count": 39,
     "metadata": {},
     "output_type": "execute_result"
    }
   ],
   "source": [
    "drop_columns_list = filter_nulls(categorical,perc=.25)\n",
    "drop_columns_list\n"
   ]
  },
  {
   "cell_type": "code",
   "execution_count": 40,
   "metadata": {},
   "outputs": [
    {
     "data": {
      "text/plain": [
       "(95412, 481)"
      ]
     },
     "execution_count": 40,
     "metadata": {},
     "output_type": "execute_result"
    }
   ],
   "source": [
    "categorical = categorical.drop(columns=drop_columns_list)\n",
    "data.shape"
   ]
  },
  {
   "cell_type": "code",
   "execution_count": 41,
   "metadata": {},
   "outputs": [],
   "source": [
    "drop_list = ['OSOURCE','ZIP']\n",
    "categorical.drop(columns=drop_list,axis=1,inplace=True)"
   ]
  },
  {
   "cell_type": "code",
   "execution_count": 42,
   "metadata": {},
   "outputs": [],
   "source": [
    "def clean_gender(df):\n",
    "    '''This function will checkout the column 'GENDER' from a given dataframe \n",
    "       and it will replace the NA's or blankds by \"other\"\n",
    "       Input:\n",
    "         df: dataframe to perform the cleanup\n",
    "       Output:\n",
    "         df: dataframe with the 'GENDER' column values according to the new specficications.\n",
    "    ''' \n",
    "        \n",
    "    df2 = df.copy()\n",
    "    df2['GENDER'] = np.where(df2['GENDER'].isin(['F','M']),df2['GENDER'],\"other\")\n",
    "\n",
    "    return df2"
   ]
  },
  {
   "cell_type": "code",
   "execution_count": 43,
   "metadata": {},
   "outputs": [
    {
     "data": {
      "text/plain": [
       "F        51277\n",
       "M        39094\n",
       "other     5041\n",
       "Name: GENDER, dtype: int64"
      ]
     },
     "execution_count": 43,
     "metadata": {},
     "output_type": "execute_result"
    }
   ],
   "source": [
    "categorical = clean_gender(categorical)\n",
    "categorical['GENDER'].value_counts()"
   ]
  },
  {
   "cell_type": "code",
   "execution_count": 44,
   "metadata": {},
   "outputs": [],
   "source": [
    "categorical['GENDER'] = categorical['GENDER'].fillna('F')"
   ]
  },
  {
   "cell_type": "code",
   "execution_count": 57,
   "metadata": {},
   "outputs": [],
   "source": [
    "numerical['WEALTH1'].value_counts()\n",
    "numerical['WEALTH1'] = numerical['WEALTH1'].astype('object') \n",
    "numerical['WEALTH1'].value_counts(sorted).reset_index()\n",
    "most = numerical['WEALTH1'].value_counts(sorted).reset_index().iloc[0,0]\n",
    "numerical['WEALTH1'] = numerical['WEALTH1'].fillna(most)"
   ]
  },
  {
   "cell_type": "code",
   "execution_count": 58,
   "metadata": {},
   "outputs": [
    {
     "data": {
      "image/png": "[encoded data removed]",
      "text/plain": [
       "<Figure size 432x288 with 1 Axes>"
      ]
     },
     "metadata": {
      "needs_background": "light"
     },
     "output_type": "display_data"
    }
   ],
   "source": [
    "sns.distplot(numerical[numerical['ADI'].isna()==False]['ADI']) \n",
    "plt.show()"
   ]
  },
  {
   "cell_type": "code",
   "execution_count": 59,
   "metadata": {},
   "outputs": [
    {
     "data": {
      "image/png": "[encoded data removed]",
      "text/plain": [
       "<Figure size 432x288 with 1 Axes>"
      ]
     },
     "metadata": {
      "needs_background": "light"
     },
     "output_type": "display_data"
    }
   ],
   "source": [
    "sns.distplot(numerical[numerical['MSA'].isna()==False]['MSA']) \n",
    "plt.show()"
   ]
  },
  {
   "cell_type": "code",
   "execution_count": 60,
   "metadata": {},
   "outputs": [
    {
     "data": {
      "image/png": "[encoded data removed]",
      "text/plain": [
       "<Figure size 432x288 with 1 Axes>"
      ]
     },
     "metadata": {
      "needs_background": "light"
     },
     "output_type": "display_data"
    }
   ],
   "source": [
    "sns.distplot(numerical[numerical['DMA'].isna()==False]['DMA']) \n",
    "plt.show()"
   ]
  },
  {
   "cell_type": "code",
   "execution_count": 61,
   "metadata": {},
   "outputs": [],
   "source": [
    "numerical['ADI'] = numerical['ADI'].fillna(np.mean(numerical['ADI']))\n",
    "numerical['DMA'] = numerical['DMA'].fillna(np.mean(numerical['DMA']))\n",
    "numerical['MSA'] = numerical['MSA'].fillna(np.mean(numerical['MSA']))"
   ]
  },
  {
   "cell_type": "code",
   "execution_count": 62,
   "metadata": {},
   "outputs": [],
   "source": [
    "categorical['GEOCODE2'].value_counts(sort=True).reset_index()\n",
    "most = categorical['GEOCODE2'].value_counts(sort=True).reset_index().iloc[0,0]\n",
    "categorical['GEOCODE2'] = categorical['GEOCODE2'].fillna(most)"
   ]
  },
  {
   "cell_type": "code",
   "execution_count": 63,
   "metadata": {},
   "outputs": [],
   "source": [
    "categorical['DATASRCE'].value_counts(sort=True).reset_index()\n",
    "most = categorical['DATASRCE'].value_counts(sort=True).reset_index().iloc[0,0]\n",
    "categorical['DATASRCE'] = categorical['DATASRCE'].fillna(most)"
   ]
  },
  {
   "cell_type": "code",
   "execution_count": 64,
   "metadata": {},
   "outputs": [],
   "source": [
    "cols_to_drop = [col for col in list(numerical.columns) if (\"ADATE\" in col) ]\n",
    "numerical.drop(columns=cols_to_drop,axis=1,inplace=True)"
   ]
  },
  {
   "cell_type": "code",
   "execution_count": 65,
   "metadata": {},
   "outputs": [
    {
     "data": {
      "text/plain": [
       "ODATEDW         0\n",
       "TCODE           0\n",
       "DOB             0\n",
       "AGE         23665\n",
       "NUMCHLD     83026\n",
       "            ...  \n",
       "TARGET_B        0\n",
       "TARGET_D        0\n",
       "HPHONE_D        0\n",
       "RFA_2F          0\n",
       "CLUSTER2      132\n",
       "Length: 383, dtype: int64"
      ]
     },
     "execution_count": 65,
     "metadata": {},
     "output_type": "execute_result"
    }
   ],
   "source": [
    "numerical.isna().sum()"
   ]
  },
  {
   "cell_type": "code",
   "execution_count": 78,
   "metadata": {},
   "outputs": [
    {
     "data": {
      "text/html": [
       "<div>\n",
       "<style scoped>\n",
       "    .dataframe tbody tr th:only-of-type {\n",
       "        vertical-align: middle;\n",
       "    }\n",
       "\n",
       "    .dataframe tbody tr th {\n",
       "        vertical-align: top;\n",
       "    }\n",
       "\n",
       "    .dataframe thead th {\n",
       "        text-align: right;\n",
       "    }\n",
       "</style>\n",
       "<table border=\"1\" class=\"dataframe\">\n",
       "  <thead>\n",
       "    <tr style=\"text-align: right;\">\n",
       "      <th></th>\n",
       "      <th>column_name</th>\n",
       "      <th>nulls</th>\n",
       "    </tr>\n",
       "  </thead>\n",
       "  <tbody>\n",
       "    <tr>\n",
       "      <th>314</th>\n",
       "      <td>NEXTDATE</td>\n",
       "      <td>9973</td>\n",
       "    </tr>\n",
       "    <tr>\n",
       "      <th>315</th>\n",
       "      <td>TIMELAG</td>\n",
       "      <td>9973</td>\n",
       "    </tr>\n",
       "  </tbody>\n",
       "</table>\n",
       "</div>"
      ],
      "text/plain": [
       "    column_name  nulls\n",
       "314    NEXTDATE   9973\n",
       "315     TIMELAG   9973"
      ]
     },
     "execution_count": 78,
     "metadata": {},
     "output_type": "execute_result"
    }
   ],
   "source": [
    "num = pd.DataFrame(numerical.isna().sum()).reset_index()\n",
    "num.columns = ['column_name', 'nulls']\n",
    "num[num['nulls']>0]"
   ]
  },
  {
   "cell_type": "code",
   "execution_count": 22,
   "metadata": {},
   "outputs": [
    {
     "data": {
      "text/plain": [
       "[]"
      ]
     },
     "execution_count": 22,
     "metadata": {},
     "output_type": "execute_result"
    }
   ],
   "source": []
  },
  {
   "cell_type": "code",
   "execution_count": 66,
   "metadata": {},
   "outputs": [],
   "source": [
    "drop_columns_list2=filter_nulls(numerical, perc = .25)"
   ]
  },
  {
   "cell_type": "code",
   "execution_count": 67,
   "metadata": {},
   "outputs": [
    {
     "data": {
      "text/plain": [
       "['NUMCHLD',\n",
       " 'MBCRAFT',\n",
       " 'MBGARDEN',\n",
       " 'MBBOOKS',\n",
       " 'MBCOLECT',\n",
       " 'MAGFAML',\n",
       " 'MAGFEM',\n",
       " 'MAGMALE',\n",
       " 'PUBGARDN',\n",
       " 'PUBCULIN',\n",
       " 'PUBHLTH',\n",
       " 'PUBDOITY',\n",
       " 'PUBNEWFN',\n",
       " 'PUBPHOTO',\n",
       " 'PUBOPP',\n",
       " 'WEALTH2',\n",
       " 'RDATE_3',\n",
       " 'RDATE_4',\n",
       " 'RDATE_5',\n",
       " 'RDATE_6',\n",
       " 'RDATE_7',\n",
       " 'RDATE_8',\n",
       " 'RDATE_9',\n",
       " 'RDATE_10',\n",
       " 'RDATE_11',\n",
       " 'RDATE_12',\n",
       " 'RDATE_13',\n",
       " 'RDATE_14',\n",
       " 'RDATE_15',\n",
       " 'RDATE_16',\n",
       " 'RDATE_17',\n",
       " 'RDATE_18',\n",
       " 'RDATE_19',\n",
       " 'RDATE_20',\n",
       " 'RDATE_21',\n",
       " 'RDATE_22',\n",
       " 'RDATE_23',\n",
       " 'RDATE_24',\n",
       " 'RAMNT_3',\n",
       " 'RAMNT_4',\n",
       " 'RAMNT_5',\n",
       " 'RAMNT_6',\n",
       " 'RAMNT_7',\n",
       " 'RAMNT_8',\n",
       " 'RAMNT_9',\n",
       " 'RAMNT_10',\n",
       " 'RAMNT_11',\n",
       " 'RAMNT_12',\n",
       " 'RAMNT_13',\n",
       " 'RAMNT_14',\n",
       " 'RAMNT_15',\n",
       " 'RAMNT_16',\n",
       " 'RAMNT_17',\n",
       " 'RAMNT_18',\n",
       " 'RAMNT_19',\n",
       " 'RAMNT_20',\n",
       " 'RAMNT_21',\n",
       " 'RAMNT_22',\n",
       " 'RAMNT_23',\n",
       " 'RAMNT_24']"
      ]
     },
     "execution_count": 67,
     "metadata": {},
     "output_type": "execute_result"
    }
   ],
   "source": [
    "drop_columns_list2"
   ]
  },
  {
   "cell_type": "code",
   "execution_count": 70,
   "metadata": {},
   "outputs": [],
   "source": [
    "numerical = numerical.drop(columns=drop_columns_list2)\n",
    "\n"
   ]
  },
  {
   "cell_type": "code",
   "execution_count": 74,
   "metadata": {},
   "outputs": [
    {
     "data": {
      "text/plain": [
       "ODATEDW         0\n",
       "TCODE           0\n",
       "DOB             0\n",
       "AGE         23665\n",
       "INCOME      21286\n",
       "            ...  \n",
       "TARGET_B        0\n",
       "TARGET_D        0\n",
       "HPHONE_D        0\n",
       "RFA_2F          0\n",
       "CLUSTER2      132\n",
       "Length: 323, dtype: int64"
      ]
     },
     "execution_count": 74,
     "metadata": {},
     "output_type": "execute_result"
    }
   ],
   "source": [
    "numerical.isna().sum()"
   ]
  },
  {
   "cell_type": "code",
   "execution_count": 75,
   "metadata": {},
   "outputs": [],
   "source": [
    "numerical['CLUSTER2'] = numerical['CLUSTER2'].fillna(np.ceil(np.mean(numerical['CLUSTER2'])))"
   ]
  },
  {
   "cell_type": "code",
   "execution_count": 76,
   "metadata": {},
   "outputs": [],
   "source": [
    "numerical['INCOME'].value_counts()\n",
    "numerical['INCOME'] = numerical['INCOME'].astype('object')\n",
    "numerical['INCOME'].value_counts(sorted).reset_index()\n",
    "most = numerical['INCOME'].value_counts(sorted).reset_index().iloc[0,0]\n",
    "numerical['INCOME'] = numerical['INCOME'].fillna(most)"
   ]
  },
  {
   "cell_type": "code",
   "execution_count": 77,
   "metadata": {},
   "outputs": [],
   "source": [
    "numerical['AGE'] = numerical[\"AGE\"].fillna(np.mean(numerical['AGE']))"
   ]
  },
  {
   "cell_type": "code",
   "execution_count": 79,
   "metadata": {},
   "outputs": [],
   "source": [
    "numerical.drop(columns ='NEXTDATE', axis=1, inplace=True)"
   ]
  },
  {
   "cell_type": "code",
   "execution_count": 80,
   "metadata": {},
   "outputs": [],
   "source": [
    "numerical['TIMELAG'] = numerical['TIMELAG'].fillna(np.ceil(np.mean(numerical['TIMELAG'])))"
   ]
  },
  {
   "cell_type": "code",
   "execution_count": null,
   "metadata": {},
   "outputs": [],
   "source": []
  }
 ],
 "metadata": {
  "kernelspec": {
   "display_name": "Python 3",
   "language": "python",
   "name": "python3"
  },
  "language_info": {
   "codemirror_mode": {
    "name": "ipython",
    "version": 3
   },
   "file_extension": ".py",
   "mimetype": "text/x-python",
   "name": "python",
   "nbconvert_exporter": "python",
   "pygments_lexer": "ipython3",
   "version": "3.8.5"
  }
 },
 "nbformat": 4,
 "nbformat_minor": 4
}
